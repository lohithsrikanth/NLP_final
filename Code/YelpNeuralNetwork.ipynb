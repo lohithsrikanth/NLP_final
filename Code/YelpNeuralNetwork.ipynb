{
 "cells": [
  {
   "cell_type": "code",
   "execution_count": 1,
   "id": "ab7ed002",
   "metadata": {},
   "outputs": [
    {
     "name": "stderr",
     "output_type": "stream",
     "text": [
      "2024-05-03 17:42:27.786778: I tensorflow/tsl/cuda/cudart_stub.cc:28] Could not find cuda drivers on your machine, GPU will not be used.\n",
      "2024-05-03 17:42:27.830875: I tensorflow/tsl/cuda/cudart_stub.cc:28] Could not find cuda drivers on your machine, GPU will not be used.\n",
      "2024-05-03 17:42:27.831877: I tensorflow/core/platform/cpu_feature_guard.cc:182] This TensorFlow binary is optimized to use available CPU instructions in performance-critical operations.\n",
      "To enable the following instructions: AVX2 FMA, in other operations, rebuild TensorFlow with the appropriate compiler flags.\n",
      "2024-05-03 17:42:28.807964: W tensorflow/compiler/tf2tensorrt/utils/py_utils.cc:38] TF-TRT Warning: Could not find TensorRT\n"
     ]
    },
    {
     "name": "stdout",
     "output_type": "stream",
     "text": [
      "Epoch 1/10\n"
     ]
    },
    {
     "name": "stderr",
     "output_type": "stream",
     "text": [
      "2024-05-03 17:42:31.034285: I tensorflow/compiler/xla/stream_executor/cuda/cuda_gpu_executor.cc:995] successful NUMA node read from SysFS had negative value (-1), but there must be at least one NUMA node, so returning NUMA node zero. See more at https://github.com/torvalds/linux/blob/v6.0/Documentation/ABI/testing/sysfs-bus-pci#L344-L355\n",
      "2024-05-03 17:42:31.036476: W tensorflow/core/common_runtime/gpu/gpu_device.cc:1960] Cannot dlopen some GPU libraries. Please make sure the missing libraries mentioned above are installed properly if you would like to use GPU. Follow the guide at https://www.tensorflow.org/install/gpu for how to download and setup the required libraries for your platform.\n",
      "Skipping registering GPU devices...\n"
     ]
    },
    {
     "name": "stdout",
     "output_type": "stream",
     "text": [
      "187/187 [==============================] - 2s 4ms/step - loss: 0.9496 - accuracy: 0.6031 - val_loss: 0.6519 - val_accuracy: 0.7638 - lr: 0.0010\n",
      "Epoch 2/10\n",
      "187/187 [==============================] - 1s 3ms/step - loss: 0.5191 - accuracy: 0.8036 - val_loss: 0.5729 - val_accuracy: 0.7698 - lr: 9.0909e-04\n",
      "Epoch 3/10\n",
      "187/187 [==============================] - 1s 3ms/step - loss: 0.4338 - accuracy: 0.8355 - val_loss: 0.4295 - val_accuracy: 0.8319 - lr: 7.5758e-04\n",
      "Epoch 4/10\n",
      "187/187 [==============================] - 1s 3ms/step - loss: 0.3872 - accuracy: 0.8536 - val_loss: 0.3825 - val_accuracy: 0.8495 - lr: 5.8275e-04\n",
      "Epoch 5/10\n",
      "187/187 [==============================] - 1s 3ms/step - loss: 0.3586 - accuracy: 0.8594 - val_loss: 0.3790 - val_accuracy: 0.8542 - lr: 4.1625e-04\n",
      "Epoch 6/10\n",
      "187/187 [==============================] - 1s 3ms/step - loss: 0.3371 - accuracy: 0.8691 - val_loss: 0.3772 - val_accuracy: 0.8565 - lr: 2.7750e-04\n",
      "Epoch 7/10\n",
      "187/187 [==============================] - 1s 3ms/step - loss: 0.3280 - accuracy: 0.8684 - val_loss: 0.3791 - val_accuracy: 0.8555 - lr: 1.7344e-04\n",
      "Epoch 8/10\n",
      "187/187 [==============================] - 1s 3ms/step - loss: 0.3213 - accuracy: 0.8738 - val_loss: 0.3778 - val_accuracy: 0.8562 - lr: 1.0202e-04\n",
      "Epoch 9/10\n",
      "187/187 [==============================] - 1s 3ms/step - loss: 0.3079 - accuracy: 0.8784 - val_loss: 0.3766 - val_accuracy: 0.8570 - lr: 5.6679e-05\n",
      "Epoch 10/10\n",
      "187/187 [==============================] - 1s 3ms/step - loss: 0.3026 - accuracy: 0.8806 - val_loss: 0.3769 - val_accuracy: 0.8567 - lr: 2.9831e-05\n",
      "125/125 [==============================] - 0s 1ms/step - loss: 0.3751 - accuracy: 0.8585\n",
      "Test Accuracy: 85.85%\n",
      "125/125 [==============================] - 0s 1ms/step\n",
      "              precision    recall  f1-score   support\n",
      "\n",
      "    Negative       0.75      0.66      0.70       516\n",
      "     Neutral       0.47      0.27      0.34       401\n",
      "    Positive       0.90      0.97      0.93      3063\n",
      "\n",
      "    accuracy                           0.86      3980\n",
      "   macro avg       0.71      0.63      0.66      3980\n",
      "weighted avg       0.84      0.86      0.84      3980\n",
      "\n"
     ]
    }
   ],
   "source": [
    "import pandas as pd\n",
    "import numpy as np\n",
    "from sklearn.model_selection import train_test_split\n",
    "from sklearn.feature_extraction.text import TfidfVectorizer\n",
    "from tensorflow.keras.models import Sequential\n",
    "from tensorflow.keras.layers import Dense, Dropout, BatchNormalization\n",
    "from tensorflow.keras.utils import to_categorical\n",
    "from tensorflow.keras.callbacks import EarlyStopping, LearningRateScheduler\n",
    "from sklearn.metrics import classification_report\n",
    "\n",
    "# Load the data\n",
    "data = pd.read_csv('Yelp_Restaurant_Reviews.csv')\n",
    "\n",
    "# Preprocessing the data using tfidf\n",
    "tfidf = TfidfVectorizer(max_features=1000)\n",
    "X = tfidf.fit_transform(data['Review Text']).toarray()\n",
    "\n",
    "# Converting ratings to categorical sentiment\n",
    "conditions = [\n",
    "    data['Rating'] <= 2,  # Negative\n",
    "    data['Rating'] == 3,  # Neutral\n",
    "    data['Rating'] >= 4   # Positive\n",
    "]\n",
    "choices = [0, 1, 2]\n",
    "y = np.select(conditions, choices)\n",
    "y = to_categorical(y, num_classes=3)\n",
    "\n",
    "# Spliting the data into training and testing sets\n",
    "X_train, X_test, y_train, y_test = train_test_split(X, y, test_size=0.2, random_state=42)\n",
    "\n",
    "# Further split training data into training and validation sets\n",
    "X_train, X_val, y_train, y_val = train_test_split(X_train, y_train, test_size=0.25, random_state=42) # 0.25 x 0.8 = 0.2\n",
    "\n",
    "# learning rate decay function to adjust the learning rate over the course of training\n",
    "def lr_time_based_decay(epoch, lr):\n",
    "    decay = 0.1\n",
    "    return lr * 1 / (1 + decay * epoch)\n",
    "\n",
    "# Model architecture : neural network model\n",
    "model = Sequential([\n",
    "    Dense(128, activation='relu', input_dim=1000),\n",
    "    Dropout(0.5),\n",
    "    BatchNormalization(),\n",
    "    Dense(64, activation='relu'), \n",
    "    Dropout(0.5),\n",
    "    BatchNormalization(),\n",
    "    Dense(3, activation='softmax')\n",
    "])\n",
    "\n",
    "# Compiling the model\n",
    "model.compile(optimizer='adam', loss='categorical_crossentropy', metrics=['accuracy'])\n",
    "\n",
    "# Early stopping to prevent overfitting\n",
    "early_stopping = EarlyStopping(monitor='val_loss', patience=3, restore_best_weights=True)\n",
    "\n",
    "# Learning rate scheduler\n",
    "lr_scheduler = LearningRateScheduler(lr_time_based_decay)\n",
    "\n",
    "# Training the model\n",
    "history = model.fit(X_train, y_train, epochs=10, batch_size=64, \n",
    "                    validation_data=(X_val, y_val), \n",
    "                    callbacks=[early_stopping, lr_scheduler])\n",
    "\n",
    "# Evaluating the model on the test set\n",
    "test_loss, test_accuracy = model.evaluate(X_test, y_test)\n",
    "print(f\"Test Accuracy: {test_accuracy*100:.2f}%\")\n",
    "\n",
    "\n",
    "# Printing classification report for the test set\n",
    "y_pred = model.predict(X_test)\n",
    "y_pred_labels = np.argmax(y_pred, axis=1)\n",
    "y_test_labels = np.argmax(y_test, axis=1)\n",
    "print(classification_report(y_test_labels, y_pred_labels, target_names=['Negative', 'Neutral', 'Positive']))\n"
   ]
  },
  {
   "cell_type": "code",
   "execution_count": null,
   "id": "a17b6700-688f-47d0-b1c9-d26bd6ce60dd",
   "metadata": {},
   "outputs": [],
   "source": []
  }
 ],
 "metadata": {
  "kernelspec": {
   "display_name": "Python 3 (ipykernel)",
   "language": "python",
   "name": "python3"
  },
  "language_info": {
   "codemirror_mode": {
    "name": "ipython",
    "version": 3
   },
   "file_extension": ".py",
   "mimetype": "text/x-python",
   "name": "python",
   "nbconvert_exporter": "python",
   "pygments_lexer": "ipython3",
   "version": "3.8.10"
  }
 },
 "nbformat": 4,
 "nbformat_minor": 5
}
