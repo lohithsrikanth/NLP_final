{
 "cells": [
  {
   "cell_type": "code",
   "execution_count": 4,
   "id": "a5d6b29a",
   "metadata": {},
   "outputs": [
    {
     "data": {
      "text/html": [
       "<div>\n",
       "<style scoped>\n",
       "    .dataframe tbody tr th:only-of-type {\n",
       "        vertical-align: middle;\n",
       "    }\n",
       "\n",
       "    .dataframe tbody tr th {\n",
       "        vertical-align: top;\n",
       "    }\n",
       "\n",
       "    .dataframe thead th {\n",
       "        text-align: right;\n",
       "    }\n",
       "</style>\n",
       "<table border=\"1\" class=\"dataframe\">\n",
       "  <thead>\n",
       "    <tr style=\"text-align: right;\">\n",
       "      <th></th>\n",
       "      <th>Company name</th>\n",
       "      <th>Location</th>\n",
       "      <th>Rating</th>\n",
       "      <th>Review Text</th>\n",
       "    </tr>\n",
       "  </thead>\n",
       "  <tbody>\n",
       "    <tr>\n",
       "      <th>0</th>\n",
       "      <td>sidney dairy barn</td>\n",
       "      <td>sidney</td>\n",
       "      <td>5</td>\n",
       "      <td>All I can say is they have very good ice cream...</td>\n",
       "    </tr>\n",
       "    <tr>\n",
       "      <th>1</th>\n",
       "      <td>sidney dairy barn</td>\n",
       "      <td>sidney</td>\n",
       "      <td>4</td>\n",
       "      <td>Nice little local place for ice cream.My favor...</td>\n",
       "    </tr>\n",
       "    <tr>\n",
       "      <th>2</th>\n",
       "      <td>sidney dairy barn</td>\n",
       "      <td>sidney</td>\n",
       "      <td>5</td>\n",
       "      <td>A delicious treat on a hot day! Staff was very...</td>\n",
       "    </tr>\n",
       "    <tr>\n",
       "      <th>3</th>\n",
       "      <td>sidney dairy barn</td>\n",
       "      <td>sidney</td>\n",
       "      <td>4</td>\n",
       "      <td>This was great service and a fun crew! I got t...</td>\n",
       "    </tr>\n",
       "    <tr>\n",
       "      <th>4</th>\n",
       "      <td>sidney dairy barn</td>\n",
       "      <td>sidney</td>\n",
       "      <td>5</td>\n",
       "      <td>This is one of my favorite places to get ice c...</td>\n",
       "    </tr>\n",
       "  </tbody>\n",
       "</table>\n",
       "</div>"
      ],
      "text/plain": [
       "        Company name Location  Rating  \\\n",
       "0  sidney dairy barn   sidney       5   \n",
       "1  sidney dairy barn   sidney       4   \n",
       "2  sidney dairy barn   sidney       5   \n",
       "3  sidney dairy barn   sidney       4   \n",
       "4  sidney dairy barn   sidney       5   \n",
       "\n",
       "                                         Review Text  \n",
       "0  All I can say is they have very good ice cream...  \n",
       "1  Nice little local place for ice cream.My favor...  \n",
       "2  A delicious treat on a hot day! Staff was very...  \n",
       "3  This was great service and a fun crew! I got t...  \n",
       "4  This is one of my favorite places to get ice c...  "
      ]
     },
     "execution_count": 4,
     "metadata": {},
     "output_type": "execute_result"
    }
   ],
   "source": [
    "import pandas as pd\n",
    "\n",
    "# Load the dataset with column names\n",
    "df = pd.read_csv('Yelp_Restaurant_Reviews.csv')\n",
    "df.head()"
   ]
  },
  {
   "cell_type": "code",
   "execution_count": 2,
   "id": "6028c7ca",
   "metadata": {},
   "outputs": [],
   "source": [
    "from sklearn.feature_extraction.text import TfidfVectorizer\n",
    "from sklearn.preprocessing import OneHotEncoder\n",
    "from sklearn.compose import ColumnTransformer\n",
    "from sklearn.model_selection import train_test_split"
   ]
  },
  {
   "cell_type": "code",
   "execution_count": 5,
   "id": "b714ef2b-4436-4c2e-b30b-4b67899173b1",
   "metadata": {},
   "outputs": [],
   "source": [
    "sentiment = []\n",
    "for i in range(len(df['Rating'])):\n",
    "    if df['Rating'].iloc[i] < 3:\n",
    "        sentiment.append(\"negative\")\n",
    "    elif df['Rating'].iloc[i] == 3:\n",
    "        sentiment.append(\"neutral\")\n",
    "    else:\n",
    "        sentiment.append(\"positive\")\n",
    "df['Sentiment'] = sentiment"
   ]
  },
  {
   "cell_type": "code",
   "execution_count": 6,
   "id": "d5408286",
   "metadata": {},
   "outputs": [],
   "source": [
    "tfidfVectorizer = TfidfVectorizer(max_features=1000)\n",
    "categorical_transformer = OneHotEncoder(handle_unknown='ignore')\n",
    "\n",
    "preprocessor = ColumnTransformer(\n",
    "    transformers=[\n",
    "        ('text', tfidfVectorizer, 'Review Text'),\n",
    "        ('cat', categorical_transformer, ['Company name', 'Location'])\n",
    "    ])\n",
    "\n",
    "X = df[['Company name','Location','Review Text']]\n",
    "y = df['Sentiment']"
   ]
  },
  {
   "cell_type": "code",
   "execution_count": 7,
   "id": "fd55e873",
   "metadata": {},
   "outputs": [],
   "source": [
    "#Train test split\n",
    "X_train, X_test, y_train, y_test = train_test_split(X,y,test_size=0.3, random_state=42)"
   ]
  },
  {
   "cell_type": "markdown",
   "id": "cf4ad839",
   "metadata": {},
   "source": [
    "### Building the model"
   ]
  },
  {
   "cell_type": "code",
   "execution_count": 8,
   "id": "ab6dd62f",
   "metadata": {},
   "outputs": [],
   "source": [
    "from sklearn.linear_model import LogisticRegression\n",
    "from sklearn.pipeline import make_pipeline\n",
    "from sklearn.metrics import accuracy_score, classification_report, roc_auc_score\n",
    "from sklearn.ensemble import RandomForestClassifier\n",
    "from sklearn.preprocessing import StandardScaler"
   ]
  },
  {
   "cell_type": "code",
   "execution_count": 9,
   "id": "b7ed3178",
   "metadata": {},
   "outputs": [],
   "source": [
    "model = make_pipeline(preprocessor, LogisticRegression(multi_class='ovr', solver='lbfgs', max_iter=1000))"
   ]
  },
  {
   "cell_type": "code",
   "execution_count": 10,
   "id": "33fd8b38",
   "metadata": {},
   "outputs": [],
   "source": [
    "model.fit(X_train, y_train)\n",
    "y_pred = model.predict(X_test)"
   ]
  },
  {
   "cell_type": "code",
   "execution_count": 11,
   "id": "bdfbcbfa",
   "metadata": {},
   "outputs": [
    {
     "name": "stdout",
     "output_type": "stream",
     "text": [
      "Accuracy: 0.8544144747863964\n",
      "Classification Report:\n",
      "              precision    recall  f1-score   support\n",
      "\n",
      "    negative       0.75      0.62      0.68       774\n",
      "     neutral       0.56      0.20      0.29       615\n",
      "    positive       0.88      0.98      0.93      4580\n",
      "\n",
      "    accuracy                           0.85      5969\n",
      "   macro avg       0.73      0.60      0.63      5969\n",
      "weighted avg       0.83      0.85      0.83      5969\n",
      "\n"
     ]
    }
   ],
   "source": [
    "print(\"Accuracy:\", accuracy_score(y_test, y_pred))\n",
    "print(\"Classification Report:\")\n",
    "print(classification_report(y_test, y_pred))\n",
    "#print(\"AUC Score:\", roc_auc_score(y_test, model.predict_proba(X_test)[:,1]))"
   ]
  },
  {
   "cell_type": "markdown",
   "id": "f607bfb4",
   "metadata": {},
   "source": [
    "### Building Model - Random Forest"
   ]
  },
  {
   "cell_type": "code",
   "execution_count": 20,
   "id": "d68d818d",
   "metadata": {},
   "outputs": [],
   "source": [
    "randomForestClassifierModel = make_pipeline(preprocessor, RandomForestClassifier())"
   ]
  },
  {
   "cell_type": "code",
   "execution_count": 21,
   "id": "3f431ac5",
   "metadata": {},
   "outputs": [],
   "source": [
    "randomForestClassifierModel.fit(X_train, y_train)\n",
    "y_pred = randomForestClassifierModel.predict(X_test)"
   ]
  },
  {
   "cell_type": "code",
   "execution_count": 22,
   "id": "de0331ff",
   "metadata": {},
   "outputs": [
    {
     "name": "stdout",
     "output_type": "stream",
     "text": [
      "Accuracy: 0.7992963645501759\n",
      "Classification Report:\n",
      "              precision    recall  f1-score   support\n",
      "\n",
      "    negative       0.79      0.25      0.38       774\n",
      "     neutral       0.80      0.01      0.03       615\n",
      "    positive       0.80      1.00      0.89      4580\n",
      "\n",
      "    accuracy                           0.80      5969\n",
      "   macro avg       0.80      0.42      0.43      5969\n",
      "weighted avg       0.80      0.80      0.73      5969\n",
      "\n"
     ]
    }
   ],
   "source": [
    "print(\"Accuracy:\", accuracy_score(y_test, y_pred))\n",
    "print(\"Classification Report:\")\n",
    "print(classification_report(y_test, y_pred))\n",
    "#print(\"AUC Score:\", roc_auc_score(y_test, randomForestClassifierModel.predict_proba(X_test)[:,1]))"
   ]
  },
  {
   "cell_type": "code",
   "execution_count": null,
   "id": "02ddbe71",
   "metadata": {},
   "outputs": [],
   "source": []
  }
 ],
 "metadata": {
  "kernelspec": {
   "display_name": "Python 3 (ipykernel)",
   "language": "python",
   "name": "python3"
  },
  "language_info": {
   "codemirror_mode": {
    "name": "ipython",
    "version": 3
   },
   "file_extension": ".py",
   "mimetype": "text/x-python",
   "name": "python",
   "nbconvert_exporter": "python",
   "pygments_lexer": "ipython3",
   "version": "3.8.10"
  }
 },
 "nbformat": 4,
 "nbformat_minor": 5
}
