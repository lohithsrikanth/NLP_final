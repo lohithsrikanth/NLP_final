{
 "cells": [
  {
   "cell_type": "code",
   "execution_count": 1,
   "id": "dd6bb82f",
   "metadata": {},
   "outputs": [],
   "source": [
    "import pandas as pd\n",
    "import re\n",
    "\n",
    "# Load the dataset with column names\n",
    "df = pd.read_csv('YelpRestaurantReviews_original.csv')\n",
    "\n",
    "# Function to remove the number from the URL if present\n",
    "def clean_url(url):\n",
    "    # Regular expression to find URLs ending with a dash and a number\n",
    "    new_url = re.sub(r'-\\d+$', '', url)\n",
    "    return new_url\n",
    "\n",
    "# Apply the function to the Url column\n",
    "df['Yelp URL'] = df['Yelp URL'].apply(clean_url)"
   ]
  },
  {
   "cell_type": "code",
   "execution_count": 2,
   "id": "f601f9ee",
   "metadata": {},
   "outputs": [],
   "source": [
    "# Function to extract the last word from the location part of the URL\n",
    "def extract_last_word(url):\n",
    "    parts = url.split('/')\n",
    "    location = parts[-1]  # Get the last part of the URL\n",
    "    location_parts = location.split('-')  # Split the location by hyphens\n",
    "    last_word = location_parts[-1]  # Get the last part, which is the word we want\n",
    "    return last_word\n",
    "\n",
    "# Apply the function to create the 'Location' column\n",
    "df['Location'] = df['Yelp URL'].apply(extract_last_word)\n",
    "\n",
    "# Specifically handle the 'las-vegas' case\n",
    "df['Location'] = df['Location'].str.replace('las-vegas', 'lasvegas', regex=False)"
   ]
  },
  {
   "cell_type": "code",
   "execution_count": 3,
   "id": "0ae5661f",
   "metadata": {},
   "outputs": [
    {
     "name": "stdout",
     "output_type": "stream",
     "text": [
      "Before Update: ['sidney' 'chandler' 'vegas' 'lakewood' 'pittsburgh' 'charlotte' 'phoenix'\n",
      " 'scottsdale' 'cleveland' 'madison' 'champaign' 'urbana']\n",
      "After Update: ['sidney' 'chandler' 'las vegas' 'lakewood' 'pittsburgh' 'charlotte'\n",
      " 'phoenix' 'scottsdale' 'cleveland' 'madison' 'champaign' 'urbana']\n"
     ]
    }
   ],
   "source": [
    "# Check the current state of some of the locations\n",
    "print(\"Before Update:\", df['Location'].unique())\n",
    "\n",
    "# Update 'vegas' to 'lasvegas' in the 'Location' column\n",
    "df['Location'] = df['Location'].str.replace('^vegas$', 'las vegas', regex=True)\n",
    "\n",
    "# Check the updated state of some of the locations\n",
    "print(\"After Update:\", df['Location'].unique())\n"
   ]
  },
  {
   "cell_type": "code",
   "execution_count": 4,
   "id": "d6332a43",
   "metadata": {},
   "outputs": [],
   "source": [
    "#adding the establishment name.\n",
    "def extract_establishment_name(url):\n",
    "    # Split the URL by '/'\n",
    "    parts = url.split('/')\n",
    "    # Extract the second-to-last part\n",
    "    comapanyLocation = parts[-1]\n",
    "    updatedCompanyLocation = comapanyLocation.replace('las-vegas', 'vegas')\n",
    "    # Split the string by '-'\n",
    "    parts = updatedCompanyLocation.split('-')\n",
    "    \n",
    "    # Remove the last element\n",
    "    parts.pop()\n",
    "    \n",
    "    # Join the remaining parts with spaces\n",
    "    Company = ' '.join(parts)\n",
    "\n",
    "    return Company\n",
    "\n",
    "# Extract establishment names from URLs\n",
    "# Apply the function to the Url column\n",
    "df['Company name'] = df['Yelp URL'].apply(extract_establishment_name)"
   ]
  },
  {
   "cell_type": "code",
   "execution_count": 5,
   "id": "5d1962be",
   "metadata": {},
   "outputs": [
    {
     "name": "stdout",
     "output_type": "stream",
     "text": [
      "        Company name Location  Rating  \\\n",
      "0  sidney dairy barn   sidney       5   \n",
      "1  sidney dairy barn   sidney       4   \n",
      "2  sidney dairy barn   sidney       5   \n",
      "3  sidney dairy barn   sidney       4   \n",
      "4  sidney dairy barn   sidney       5   \n",
      "\n",
      "                                         Review Text  \n",
      "0  All I can say is they have very good ice cream...  \n",
      "1  Nice little local place for ice cream.My favor...  \n",
      "2  A delicious treat on a hot day! Staff was very...  \n",
      "3  This was great service and a fun crew! I got t...  \n",
      "4  This is one of my favorite places to get ice c...  \n"
     ]
    }
   ],
   "source": [
    "# Drop the 'Url' and 'Date' columns\n",
    "df.drop(['Yelp URL', 'Date'], axis=1, inplace=True)\n",
    "\n",
    "# Reorder the columns to Location, Rating, Review\n",
    "df = df[['Company name','Location', 'Rating', 'Review Text']]\n",
    "\n",
    "# Display the modified DataFrame to verify changes\n",
    "print(df.head())\n",
    "\n",
    "# Optionally, save the modified DataFrame\n",
    "df.to_csv('Yelp_Restaurant_Reviews.csv', index=False)"
   ]
  },
  {
   "cell_type": "code",
   "execution_count": null,
   "id": "7cd05e7e-f15e-49e7-96f3-154dff013ea1",
   "metadata": {},
   "outputs": [],
   "source": []
  }
 ],
 "metadata": {
  "kernelspec": {
   "display_name": "Python 3 (ipykernel)",
   "language": "python",
   "name": "python3"
  },
  "language_info": {
   "codemirror_mode": {
    "name": "ipython",
    "version": 3
   },
   "file_extension": ".py",
   "mimetype": "text/x-python",
   "name": "python",
   "nbconvert_exporter": "python",
   "pygments_lexer": "ipython3",
   "version": "3.8.10"
  }
 },
 "nbformat": 4,
 "nbformat_minor": 5
}
