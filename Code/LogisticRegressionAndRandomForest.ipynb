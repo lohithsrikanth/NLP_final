{
 "cells": [
  {
   "cell_type": "code",
   "execution_count": 1,
   "id": "dd6bb82f",
   "metadata": {},
   "outputs": [],
   "source": [
    "import pandas as pd\n",
    "import re\n",
    "\n",
    "# Load the dataset with column names\n",
    "df = pd.read_csv('Yelp Restaurant Reviews.csv')\n",
    "\n",
    "# Function to remove the number from the URL if present\n",
    "def clean_url(url):\n",
    "    # Regular expression to find URLs ending with a dash and a number\n",
    "    new_url = re.sub(r'-\\d+$', '', url)\n",
    "    return new_url\n",
    "\n",
    "# Apply the function to the Url column\n",
    "df['Yelp URL'] = df['Yelp URL'].apply(clean_url)"
   ]
  },
  {
   "cell_type": "code",
   "execution_count": 2,
   "id": "f601f9ee",
   "metadata": {},
   "outputs": [],
   "source": [
    "# Function to extract the last word from the location part of the URL\n",
    "def extract_last_word(url):\n",
    "    parts = url.split('/')\n",
    "    location = parts[-1]  # Get the last part of the URL\n",
    "    location_parts = location.split('-')  # Split the location by hyphens\n",
    "    last_word = location_parts[-1]  # Get the last part, which is the word we want\n",
    "    return last_word\n",
    "\n",
    "# Apply the function to create the 'Location' column\n",
    "df['Location'] = df['Yelp URL'].apply(extract_last_word)\n",
    "\n",
    "# Specifically handle the 'las-vegas' case\n",
    "df['Location'] = df['Location'].str.replace('las-vegas', 'lasvegas', regex=False)"
   ]
  },
  {
   "cell_type": "code",
   "execution_count": 3,
   "id": "0ae5661f",
   "metadata": {},
   "outputs": [
    {
     "name": "stdout",
     "output_type": "stream",
     "text": [
      "Before Update: ['sidney' 'chandler' 'vegas' 'lakewood' 'pittsburgh' 'charlotte' 'phoenix'\n",
      " 'scottsdale' 'cleveland' 'madison' 'champaign' 'urbana']\n",
      "After Update: ['sidney' 'chandler' 'las vegas' 'lakewood' 'pittsburgh' 'charlotte'\n",
      " 'phoenix' 'scottsdale' 'cleveland' 'madison' 'champaign' 'urbana']\n"
     ]
    }
   ],
   "source": [
    "# Check the current state of some of the locations\n",
    "print(\"Before Update:\", df['Location'].unique())\n",
    "\n",
    "# Update 'vegas' to 'lasvegas' in the 'Location' column\n",
    "df['Location'] = df['Location'].str.replace('^vegas$', 'las vegas', regex=True)\n",
    "\n",
    "# Check the updated state of some of the locations\n",
    "print(\"After Update:\", df['Location'].unique())\n"
   ]
  },
  {
   "cell_type": "code",
   "execution_count": 4,
   "id": "d6332a43",
   "metadata": {},
   "outputs": [],
   "source": [
    "#adding the establishment name.\n",
    "def extract_establishment_name(url):\n",
    "    # Split the URL by '/'\n",
    "    parts = url.split('/')\n",
    "    # Extract the second-to-last part\n",
    "    comapanyLocation = parts[-1]\n",
    "    updatedCompanyLocation = comapanyLocation.replace('las-vegas', 'vegas')\n",
    "    # Split the string by '-'\n",
    "    parts = updatedCompanyLocation.split('-')\n",
    "    \n",
    "    # Remove the last element\n",
    "    parts.pop()\n",
    "    \n",
    "    # Join the remaining parts with spaces\n",
    "    Company = ' '.join(parts)\n",
    "\n",
    "    return Company\n",
    "\n",
    "# Extract establishment names from URLs\n",
    "# Apply the function to the Url column\n",
    "df['Company name'] = df['Yelp URL'].apply(extract_establishment_name)"
   ]
  },
  {
   "cell_type": "code",
   "execution_count": 5,
   "id": "5d1962be",
   "metadata": {},
   "outputs": [
    {
     "name": "stdout",
     "output_type": "stream",
     "text": [
      "        Company name Location  Rating  \\\n",
      "0  sidney dairy barn   sidney       5   \n",
      "1  sidney dairy barn   sidney       4   \n",
      "2  sidney dairy barn   sidney       5   \n",
      "3  sidney dairy barn   sidney       4   \n",
      "4  sidney dairy barn   sidney       5   \n",
      "\n",
      "                                         Review Text  \n",
      "0  All I can say is they have very good ice cream...  \n",
      "1  Nice little local place for ice cream.My favor...  \n",
      "2  A delicious treat on a hot day! Staff was very...  \n",
      "3  This was great service and a fun crew! I got t...  \n",
      "4  This is one of my favorite places to get ice c...  \n"
     ]
    }
   ],
   "source": [
    "# Drop the 'Url' and 'Date' columns\n",
    "df.drop(['Yelp URL', 'Date'], axis=1, inplace=True)\n",
    "\n",
    "# Reorder the columns to Location, Rating, Review\n",
    "df = df[['Company name','Location', 'Rating', 'Review Text']]\n",
    "\n",
    "# Display the modified DataFrame to verify changes\n",
    "print(df.head())\n",
    "\n",
    "# Optionally, save the modified DataFrame\n",
    "df.to_csv('Final Yelp Restaurant Reviews.csv', index=False)"
   ]
  },
  {
   "cell_type": "markdown",
   "id": "c6a4db55",
   "metadata": {},
   "source": [
    "## Preprocessing the data "
   ]
  },
  {
   "cell_type": "code",
   "execution_count": 6,
   "id": "44d17693",
   "metadata": {},
   "outputs": [],
   "source": [
    "from sklearn.feature_extraction.text import TfidfVectorizer\n",
    "from sklearn.preprocessing import OneHotEncoder\n",
    "from sklearn.compose import ColumnTransformer\n",
    "from sklearn.model_selection import train_test_split"
   ]
  },
  {
   "cell_type": "code",
   "execution_count": 7,
   "id": "05fa8470",
   "metadata": {},
   "outputs": [],
   "source": [
    "#Replacing the ratings with positive and negative values (1-3 negative) (4-5 postive)\n",
    "sentiment = []\n",
    "for i in range(len(df['Rating'])):\n",
    "    if df['Rating'].iloc[i] < 3:\n",
    "        sentiment.append('negative')\n",
    "    elif df['Rating'].iloc[i] == 3:\n",
    "        sentiment.append('neutral')\n",
    "    else:\n",
    "        sentiment.append('positive')\n"
   ]
  },
  {
   "cell_type": "code",
   "execution_count": 8,
   "id": "c6bc194c",
   "metadata": {},
   "outputs": [],
   "source": [
    "df['Sentiment'] = sentiment"
   ]
  },
  {
   "cell_type": "code",
   "execution_count": 9,
   "id": "6a8b76c5",
   "metadata": {},
   "outputs": [],
   "source": [
    "df.drop(columns=['Rating'], inplace=True)"
   ]
  },
  {
   "cell_type": "code",
   "execution_count": 10,
   "id": "3e23a7ba",
   "metadata": {},
   "outputs": [
    {
     "data": {
      "text/plain": [
       "array(['positive', 'negative', 'neutral'], dtype=object)"
      ]
     },
     "execution_count": 10,
     "metadata": {},
     "output_type": "execute_result"
    }
   ],
   "source": [
    "df['Sentiment'].unique()"
   ]
  },
  {
   "cell_type": "code",
   "execution_count": 11,
   "id": "073cd637",
   "metadata": {},
   "outputs": [
    {
     "data": {
      "text/html": [
       "<div>\n",
       "<style scoped>\n",
       "    .dataframe tbody tr th:only-of-type {\n",
       "        vertical-align: middle;\n",
       "    }\n",
       "\n",
       "    .dataframe tbody tr th {\n",
       "        vertical-align: top;\n",
       "    }\n",
       "\n",
       "    .dataframe thead th {\n",
       "        text-align: right;\n",
       "    }\n",
       "</style>\n",
       "<table border=\"1\" class=\"dataframe\">\n",
       "  <thead>\n",
       "    <tr style=\"text-align: right;\">\n",
       "      <th></th>\n",
       "      <th>Company name</th>\n",
       "      <th>Location</th>\n",
       "      <th>Review Text</th>\n",
       "      <th>Sentiment</th>\n",
       "    </tr>\n",
       "  </thead>\n",
       "  <tbody>\n",
       "    <tr>\n",
       "      <th>0</th>\n",
       "      <td>sidney dairy barn</td>\n",
       "      <td>sidney</td>\n",
       "      <td>All I can say is they have very good ice cream...</td>\n",
       "      <td>positive</td>\n",
       "    </tr>\n",
       "    <tr>\n",
       "      <th>1</th>\n",
       "      <td>sidney dairy barn</td>\n",
       "      <td>sidney</td>\n",
       "      <td>Nice little local place for ice cream.My favor...</td>\n",
       "      <td>positive</td>\n",
       "    </tr>\n",
       "    <tr>\n",
       "      <th>2</th>\n",
       "      <td>sidney dairy barn</td>\n",
       "      <td>sidney</td>\n",
       "      <td>A delicious treat on a hot day! Staff was very...</td>\n",
       "      <td>positive</td>\n",
       "    </tr>\n",
       "    <tr>\n",
       "      <th>3</th>\n",
       "      <td>sidney dairy barn</td>\n",
       "      <td>sidney</td>\n",
       "      <td>This was great service and a fun crew! I got t...</td>\n",
       "      <td>positive</td>\n",
       "    </tr>\n",
       "    <tr>\n",
       "      <th>4</th>\n",
       "      <td>sidney dairy barn</td>\n",
       "      <td>sidney</td>\n",
       "      <td>This is one of my favorite places to get ice c...</td>\n",
       "      <td>positive</td>\n",
       "    </tr>\n",
       "  </tbody>\n",
       "</table>\n",
       "</div>"
      ],
      "text/plain": [
       "        Company name Location  \\\n",
       "0  sidney dairy barn   sidney   \n",
       "1  sidney dairy barn   sidney   \n",
       "2  sidney dairy barn   sidney   \n",
       "3  sidney dairy barn   sidney   \n",
       "4  sidney dairy barn   sidney   \n",
       "\n",
       "                                         Review Text Sentiment  \n",
       "0  All I can say is they have very good ice cream...  positive  \n",
       "1  Nice little local place for ice cream.My favor...  positive  \n",
       "2  A delicious treat on a hot day! Staff was very...  positive  \n",
       "3  This was great service and a fun crew! I got t...  positive  \n",
       "4  This is one of my favorite places to get ice c...  positive  "
      ]
     },
     "execution_count": 11,
     "metadata": {},
     "output_type": "execute_result"
    }
   ],
   "source": [
    "df.head(5)"
   ]
  },
  {
   "cell_type": "code",
   "execution_count": 12,
   "id": "f4bdc417",
   "metadata": {},
   "outputs": [],
   "source": [
    "tfidfVectorizer = TfidfVectorizer(max_features=1000)\n",
    "categorical_transformer = OneHotEncoder(handle_unknown='ignore')\n",
    "\n",
    "preprocessor = ColumnTransformer(\n",
    "    transformers=[\n",
    "        ('text', tfidfVectorizer, 'Review Text'),\n",
    "        ('cat', categorical_transformer, ['Company name', 'Location'])\n",
    "    ])\n",
    "\n",
    "X = df[['Company name','Location','Review Text']]\n",
    "y = df['Sentiment']\n"
   ]
  },
  {
   "cell_type": "code",
   "execution_count": 13,
   "id": "cc0f0702",
   "metadata": {},
   "outputs": [],
   "source": [
    "#Train test split\n",
    "X_train, X_test, y_train, y_test = train_test_split(X,y,test_size=0.3, random_state=42)\n"
   ]
  },
  {
   "cell_type": "markdown",
   "id": "cf4ad839",
   "metadata": {},
   "source": [
    "### Building the model"
   ]
  },
  {
   "cell_type": "code",
   "execution_count": 14,
   "id": "ab6dd62f",
   "metadata": {},
   "outputs": [],
   "source": [
    "from sklearn.linear_model import LogisticRegression\n",
    "from sklearn.pipeline import make_pipeline\n",
    "from sklearn.metrics import accuracy_score, classification_report, roc_auc_score\n",
    "from sklearn.ensemble import RandomForestClassifier\n",
    "from sklearn.preprocessing import StandardScaler"
   ]
  },
  {
   "cell_type": "code",
   "execution_count": 18,
   "id": "b7ed3178",
   "metadata": {},
   "outputs": [],
   "source": [
    "model = make_pipeline(preprocessor, LogisticRegression(multi_class='ovr', solver='lbfgs', max_iter=1000))"
   ]
  },
  {
   "cell_type": "code",
   "execution_count": 19,
   "id": "33fd8b38",
   "metadata": {},
   "outputs": [],
   "source": [
    "model.fit(X_train, y_train)\n",
    "y_pred = model.predict(X_test)"
   ]
  },
  {
   "cell_type": "code",
   "execution_count": 21,
   "id": "bdfbcbfa",
   "metadata": {},
   "outputs": [
    {
     "name": "stdout",
     "output_type": "stream",
     "text": [
      "Accuracy: 0.8545820070363545\n",
      "Classification Report:\n",
      "              precision    recall  f1-score   support\n",
      "\n",
      "    negative       0.75      0.62      0.68       774\n",
      "     neutral       0.55      0.19      0.29       615\n",
      "    positive       0.88      0.98      0.93      4580\n",
      "\n",
      "    accuracy                           0.85      5969\n",
      "   macro avg       0.73      0.60      0.63      5969\n",
      "weighted avg       0.83      0.85      0.83      5969\n",
      "\n"
     ]
    }
   ],
   "source": [
    "print(\"Accuracy:\", accuracy_score(y_test, y_pred))\n",
    "print(\"Classification Report:\")\n",
    "print(classification_report(y_test, y_pred))\n",
    "#print(\"AUC Score:\", roc_auc_score(y_test, model.predict_proba(X_test)[:,1]))"
   ]
  },
  {
   "cell_type": "markdown",
   "id": "f607bfb4",
   "metadata": {},
   "source": [
    "### Building Model - Random Forest"
   ]
  },
  {
   "cell_type": "code",
   "execution_count": 22,
   "id": "d68d818d",
   "metadata": {},
   "outputs": [],
   "source": [
    "randomForestClassifierModel = make_pipeline(preprocessor, RandomForestClassifier())"
   ]
  },
  {
   "cell_type": "code",
   "execution_count": 23,
   "id": "3f431ac5",
   "metadata": {},
   "outputs": [],
   "source": [
    "randomForestClassifierModel.fit(X_train, y_train)\n",
    "y_pred = randomForestClassifierModel.predict(X_test)"
   ]
  },
  {
   "cell_type": "code",
   "execution_count": 24,
   "id": "de0331ff",
   "metadata": {},
   "outputs": [
    {
     "name": "stdout",
     "output_type": "stream",
     "text": [
      "Accuracy: 0.8041547997989613\n",
      "Classification Report:\n",
      "              precision    recall  f1-score   support\n",
      "\n",
      "    negative       0.79      0.29      0.43       774\n",
      "     neutral       0.46      0.01      0.02       615\n",
      "    positive       0.81      1.00      0.89      4580\n",
      "\n",
      "    accuracy                           0.80      5969\n",
      "   macro avg       0.68      0.43      0.45      5969\n",
      "weighted avg       0.77      0.80      0.74      5969\n",
      "\n"
     ]
    }
   ],
   "source": [
    "print(\"Accuracy:\", accuracy_score(y_test, y_pred))\n",
    "print(\"Classification Report:\")\n",
    "print(classification_report(y_test, y_pred))\n",
    "#print(\"AUC Score:\", roc_auc_score(y_test, randomForestClassifierModel.predict_proba(X_test)[:,1]))"
   ]
  },
  {
   "cell_type": "code",
   "execution_count": null,
   "id": "036fca99",
   "metadata": {},
   "outputs": [],
   "source": []
  }
 ],
 "metadata": {
  "kernelspec": {
   "display_name": "Python 3 (ipykernel)",
   "language": "python",
   "name": "python3"
  },
  "language_info": {
   "codemirror_mode": {
    "name": "ipython",
    "version": 3
   },
   "file_extension": ".py",
   "mimetype": "text/x-python",
   "name": "python",
   "nbconvert_exporter": "python",
   "pygments_lexer": "ipython3",
   "version": "3.11.0"
  }
 },
 "nbformat": 4,
 "nbformat_minor": 5
}
